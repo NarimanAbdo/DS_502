{
 "cells": [
  {
   "cell_type": "code",
   "execution_count": null,
   "id": "a1bb92f3-43ab-4cd4-a724-b29228abb3ed",
   "metadata": {},
   "outputs": [],
   "source": [
    "\"\"\"Question 1: Write a python code to print all the prime numbers which are less\n",
    "than 100.\n",
    "o Note: A prime number is a natural number greater than 1 that is not a product of two smaller\n",
    "natural numbers.\"\"\""
   ]
  },
  {
   "cell_type": "code",
   "execution_count": 3,
   "id": "8559b5f4-04f3-4aef-8613-5923cd000d4b",
   "metadata": {},
   "outputs": [
    {
     "name": "stdout",
     "output_type": "stream",
     "text": [
      "Prime numbers from 2 to 100: [2, 3, 5, 7, 11, 13, 17, 19, 23, 29, 31, 37, 41, 43, 47, 53, 59, 61, 67, 71, 73, 79, 83, 89, 97]\n"
     ]
    }
   ],
   "source": [
    "primes = []\n",
    "for num in range(2, 100):\n",
    "    is_prime = True\n",
    "    for i in range(2, int(num**0.5) + 1):\n",
    "        if num % i == 0:\n",
    "            is_prime = False\n",
    "            break\n",
    "    if is_prime:\n",
    "        primes.append(num)\n",
    "print(\"Prime numbers from 2 to 100:\", primes)\n"
   ]
  },
  {
   "cell_type": "code",
   "execution_count": null,
   "id": "1ab30148-0cb1-4a7a-94c5-30e14bb78dda",
   "metadata": {},
   "outputs": [],
   "source": [
    "\"\"\"Write a Python program to count the number of even and odd\n",
    "numbers in a list of numbers.\"\"\""
   ]
  },
  {
   "cell_type": "code",
   "execution_count": 7,
   "id": "002800de-2541-407c-8cd0-cb0a6d5a12f0",
   "metadata": {},
   "outputs": [
    {
     "name": "stdout",
     "output_type": "stream",
     "text": [
      "Number of even numbers: 49\n",
      "Number of odd numbers: 50\n"
     ]
    }
   ],
   "source": [
    "numbers = list(range(1, 100))\n",
    "even_count = 0 \n",
    "odd_count = 0   \n",
    "for num in numbers:\n",
    "    if num % 2 == 0:\n",
    "        even_count += 1  \n",
    "    else:\n",
    "        odd_count += 1   \n",
    "print(\"Number of even numbers:\", even_count)\n",
    "print(\"Number of odd numbers:\", odd_count)\n"
   ]
  },
  {
   "cell_type": "code",
   "execution_count": 12,
   "id": "60d91d65-5115-406f-b807-5195f453ba38",
   "metadata": {},
   "outputs": [
    {
     "data": {
      "text/plain": [
       "'Question 3: Write a Python program that prints all the numbers from 0 to 6\\nexcept 3 and 6.'"
      ]
     },
     "execution_count": 12,
     "metadata": {},
     "output_type": "execute_result"
    }
   ],
   "source": [
    "\"\"\"Question 3: Write a Python program that prints all the numbers from 0 to 6\n",
    "except 3 and 6.\"\"\""
   ]
  },
  {
   "cell_type": "code",
   "execution_count": 16,
   "id": "7d6a3ddd-699f-4cd3-9cd7-5120c65c16b1",
   "metadata": {},
   "outputs": [
    {
     "name": "stdout",
     "output_type": "stream",
     "text": [
      "0\n",
      "1\n",
      "2\n",
      "4\n",
      "5\n"
     ]
    }
   ],
   "source": [
    "i=0\n",
    "for i in range(7):  \n",
    "    if i == 3 or i == 6:\n",
    "        continue  \n",
    "    print(i)\n"
   ]
  },
  {
   "cell_type": "code",
   "execution_count": null,
   "id": "8dc5ed68-fc09-44be-a3ba-e1e2f1bcf7d3",
   "metadata": {},
   "outputs": [],
   "source": []
  }
 ],
 "metadata": {
  "kernelspec": {
   "display_name": "Python 3 (ipykernel)",
   "language": "python",
   "name": "python3"
  },
  "language_info": {
   "codemirror_mode": {
    "name": "ipython",
    "version": 3
   },
   "file_extension": ".py",
   "mimetype": "text/x-python",
   "name": "python",
   "nbconvert_exporter": "python",
   "pygments_lexer": "ipython3",
   "version": "3.11.7"
  }
 },
 "nbformat": 4,
 "nbformat_minor": 5
}
