{
 "cells": [
  {
   "cell_type": "code",
   "execution_count": 1,
   "id": "0f4f561a-5805-447e-9c0b-48af2b94fcc7",
   "metadata": {},
   "outputs": [
    {
     "name": "stdin",
     "output_type": "stream",
     "text": [
      "Please, enter your name:  nariman abdo khalil\n",
      "Please, enter your age:  35\n"
     ]
    },
    {
     "name": "stdout",
     "output_type": "stream",
     "text": [
      "Hello, My name is nariman abdo khalil and have 35 years old.\n"
     ]
    }
   ],
   "source": [
    "# Ask the user to enter their name\n",
    "name = input(\"Please, enter your name: \")\n",
    "\n",
    "# Ask the user to enter their age\n",
    "age = input(\"Please, enter your age: \")\n",
    "\n",
    "# Print the name and age on the screen\n",
    "print(f\"Hello, My name is {name} and have {age} years old.\")\n"
   ]
  },
  {
   "cell_type": "code",
   "execution_count": null,
   "id": "6ccdd2c9-1e6c-464e-9154-91afc1efe637",
   "metadata": {},
   "outputs": [],
   "source": []
  }
 ],
 "metadata": {
  "kernelspec": {
   "display_name": "Python 3 (ipykernel)",
   "language": "python",
   "name": "python3"
  },
  "language_info": {
   "codemirror_mode": {
    "name": "ipython",
    "version": 3
   },
   "file_extension": ".py",
   "mimetype": "text/x-python",
   "name": "python",
   "nbconvert_exporter": "python",
   "pygments_lexer": "ipython3",
   "version": "3.11.7"
  }
 },
 "nbformat": 4,
 "nbformat_minor": 5
}
