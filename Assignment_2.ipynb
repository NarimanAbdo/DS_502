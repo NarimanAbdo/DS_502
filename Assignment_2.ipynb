{
 "cells": [
  {
   "cell_type": "code",
   "execution_count": 25,
   "id": "a6e95bad-7d46-4fcd-a19a-d34a6b1ca4a3",
   "metadata": {},
   "outputs": [
    {
     "name": "stdout",
     "output_type": "stream",
     "text": [
      "<class 'dict'>\n",
      "11\n",
      "302\n"
     ]
    }
   ],
   "source": [
    "# 1.Show how you create the dictionary.\n",
    "monthly_data = {\n",
    "    'Month':['January','February','March', 'April','May','June', 'July', 'August', 'September','October','November'],\n",
    "    'Amount': [ 230, 250, 345, 290, 890, 321, 232, 456, 213, 299, 123]\n",
    "}\n",
    "\n",
    "# 2.Use the function to verify that you have an object of type dictionary.\n",
    "print(type(monthly_data)) \n",
    "\n",
    "# Use the function to show how many values there are in the dictionary.\n",
    "print(len(monthly_data['Month']))\n",
    "\n",
    "# update the amount for April from 290 to 302.\n",
    "april_index = monthly_data['Month'].index('April')\n",
    "monthly_data['Amount'][april_index] = 302\n",
    "print(monthly_data['Amount'][april_index]) \n"
   ]
  },
  {
   "cell_type": "code",
   "execution_count": 45,
   "id": "08aa3e32-e0c7-4ea3-9798-f26a09ba0606",
   "metadata": {},
   "outputs": [
    {
     "data": {
      "text/plain": [
       "{1: {'name': 'Jonathan', 'Age': '27', 'sex': 'Male'},\n",
       " 3: {'name': 'Nariman', 'Age': '30', 'sex': 'Female'},\n",
       " 4: {'name': 'Mohmmed', 'Age': '32', 'sex': 'Male'}}"
      ]
     },
     "execution_count": 45,
     "metadata": {},
     "output_type": "execute_result"
    }
   ],
   "source": [
    "#Add two more people to the dictionary people.\n",
    "people_data = {\n",
    "    1:{'name':'John','Age':'27', 'sex':'Male'},\n",
    "    2:{'name':'Maria','Age':'22', 'sex':'Female'}\n",
    "}\n",
    "people_data[3]= {'name':'Nariman','Age':'30', 'sex':'Female'}\n",
    "people_data[4]= {'name':'Mohmmed','Age':'32', 'sex':'Male'}\n",
    "#Modify the name of person 1 from John to Jonathan.\n",
    "people_data[1]['name']='Jonathan'\n",
    "#Delete person 2 from the dictionary.\n",
    "del people_data[2]\n",
    "people_data"
   ]
  },
  {
   "cell_type": "code",
   "execution_count": null,
   "id": "1fd9121d-a775-4742-8ba4-4551cbbc071c",
   "metadata": {},
   "outputs": [],
   "source": []
  },
  {
   "cell_type": "code",
   "execution_count": null,
   "id": "b30f752c-ef98-40c6-96cd-b23158f6d3ae",
   "metadata": {},
   "outputs": [],
   "source": []
  }
 ],
 "metadata": {
  "kernelspec": {
   "display_name": "Python 3 (ipykernel)",
   "language": "python",
   "name": "python3"
  },
  "language_info": {
   "codemirror_mode": {
    "name": "ipython",
    "version": 3
   },
   "file_extension": ".py",
   "mimetype": "text/x-python",
   "name": "python",
   "nbconvert_exporter": "python",
   "pygments_lexer": "ipython3",
   "version": "3.11.7"
  }
 },
 "nbformat": 4,
 "nbformat_minor": 5
}
